{
 "cells": [
  {
   "cell_type": "markdown",
   "metadata": {},
   "source": [
    "# Packages"
   ]
  },
  {
   "cell_type": "markdown",
   "metadata": {},
   "source": [
    "### Downloading packages \n",
    "#### Select and run just either one of them"
   ]
  },
  {
   "cell_type": "code",
   "execution_count": 1,
   "metadata": {},
   "outputs": [
    {
     "name": "stdout",
     "output_type": "stream",
     "text": [
      "\u001b[33mDEPRECATION: Configuring installation scheme with distutils config files is deprecated and will no longer work in the near future. If you are using a Homebrew or Linuxbrew Python, please see discussion at https://github.com/Homebrew/homebrew-core/issues/76621\u001b[0m\n",
      "Defaulting to user installation because normal site-packages is not writeable\n",
      "\u001b[33mWARNING: Ignoring invalid distribution -umpy (/Users/agustin/Library/Python/3.9/lib/python/site-packages)\u001b[0m\n",
      "\u001b[33mWARNING: Ignoring invalid distribution -umpy (/Users/agustin/Library/Python/3.9/lib/python/site-packages)\u001b[0m\n",
      "\u001b[31mERROR: Could not find a version that satisfies the requirement requirements (from versions: none)\u001b[0m\n",
      "\u001b[31mERROR: No matching distribution found for requirements\u001b[0m\n",
      "\u001b[33mWARNING: Ignoring invalid distribution -umpy (/Users/agustin/Library/Python/3.9/lib/python/site-packages)\u001b[0m\n",
      "\u001b[33mWARNING: Ignoring invalid distribution -umpy (/Users/agustin/Library/Python/3.9/lib/python/site-packages)\u001b[0m\n"
     ]
    }
   ],
   "source": [
    "!pip3 install requirements -r requirements.txt"
   ]
  },
  {
   "cell_type": "code",
   "execution_count": 2,
   "metadata": {},
   "outputs": [
    {
     "name": "stdout",
     "output_type": "stream",
     "text": [
      "\u001b[33mDEPRECATION: Configuring installation scheme with distutils config files is deprecated and will no longer work in the near future. If you are using a Homebrew or Linuxbrew Python, please see discussion at https://github.com/Homebrew/homebrew-core/issues/76621\u001b[0m\n",
      "Defaulting to user installation because normal site-packages is not writeable\n",
      "\u001b[33mWARNING: Ignoring invalid distribution -umpy (/Users/agustin/Library/Python/3.9/lib/python/site-packages)\u001b[0m\n",
      "\u001b[33mWARNING: Ignoring invalid distribution -umpy (/Users/agustin/Library/Python/3.9/lib/python/site-packages)\u001b[0m\n",
      "Requirement already satisfied: pip in /Users/agustin/Library/Python/3.9/lib/python/site-packages (21.3.1)\n",
      "\u001b[33mWARNING: Ignoring invalid distribution -umpy (/Users/agustin/Library/Python/3.9/lib/python/site-packages)\u001b[0m\n",
      "\u001b[33mWARNING: Ignoring invalid distribution -umpy (/Users/agustin/Library/Python/3.9/lib/python/site-packages)\u001b[0m\n",
      "\u001b[33mWARNING: Ignoring invalid distribution -umpy (/Users/agustin/Library/Python/3.9/lib/python/site-packages)\u001b[0m\n",
      "\u001b[33mDEPRECATION: Configuring installation scheme with distutils config files is deprecated and will no longer work in the near future. If you are using a Homebrew or Linuxbrew Python, please see discussion at https://github.com/Homebrew/homebrew-core/issues/76621\u001b[0m\n",
      "Defaulting to user installation because normal site-packages is not writeable\n",
      "\u001b[33mWARNING: Ignoring invalid distribution -umpy (/Users/agustin/Library/Python/3.9/lib/python/site-packages)\u001b[0m\n",
      "\u001b[33mWARNING: Ignoring invalid distribution -umpy (/Users/agustin/Library/Python/3.9/lib/python/site-packages)\u001b[0m\n",
      "Requirement already satisfied: mlflow in /Users/agustin/Library/Python/3.9/lib/python/site-packages (1.20.2)\n",
      "Requirement already satisfied: alembic<=1.4.1 in /Users/agustin/Library/Python/3.9/lib/python/site-packages (from mlflow) (1.4.1)\n",
      "Requirement already satisfied: requests>=2.17.3 in /Users/agustin/Library/Python/3.9/lib/python/site-packages (from mlflow) (2.26.0)\n",
      "Requirement already satisfied: pandas in /Users/agustin/Library/Python/3.9/lib/python/site-packages (from mlflow) (1.3.4)\n",
      "Requirement already satisfied: querystring-parser in /Users/agustin/Library/Python/3.9/lib/python/site-packages (from mlflow) (1.2.4)\n",
      "Requirement already satisfied: importlib-metadata!=4.7.0,>=3.7.0 in /Users/agustin/Library/Python/3.9/lib/python/site-packages (from mlflow) (4.8.1)\n",
      "Requirement already satisfied: sqlparse>=0.3.1 in /Users/agustin/Library/Python/3.9/lib/python/site-packages (from mlflow) (0.4.2)\n",
      "Requirement already satisfied: docker>=4.0.0 in /Users/agustin/Library/Python/3.9/lib/python/site-packages (from mlflow) (5.0.3)\n",
      "Requirement already satisfied: pyyaml>=5.1 in /Users/agustin/Library/Python/3.9/lib/python/site-packages (from mlflow) (6.0)\n",
      "Requirement already satisfied: entrypoints in /Users/agustin/Library/Python/3.9/lib/python/site-packages (from mlflow) (0.3)\n",
      "Requirement already satisfied: sqlalchemy in /Users/agustin/Library/Python/3.9/lib/python/site-packages (from mlflow) (1.4.25)\n",
      "Requirement already satisfied: numpy in /Users/agustin/Library/Python/3.9/lib/python/site-packages (from mlflow) (1.21.2)\n",
      "Requirement already satisfied: Flask in /Users/agustin/Library/Python/3.9/lib/python/site-packages (from mlflow) (2.0.2)\n",
      "Requirement already satisfied: gitpython>=2.1.0 in /Users/agustin/Library/Python/3.9/lib/python/site-packages (from mlflow) (3.1.24)\n",
      "Requirement already satisfied: cloudpickle in /Users/agustin/Library/Python/3.9/lib/python/site-packages (from mlflow) (2.0.0)\n",
      "Requirement already satisfied: gunicorn in /Users/agustin/Library/Python/3.9/lib/python/site-packages (from mlflow) (20.1.0)\n",
      "Requirement already satisfied: packaging in /Users/agustin/Library/Python/3.9/lib/python/site-packages (from mlflow) (21.0)\n",
      "Requirement already satisfied: pytz in /Users/agustin/Library/Python/3.9/lib/python/site-packages (from mlflow) (2021.3)\n",
      "Requirement already satisfied: protobuf>=3.7.0 in /Users/agustin/Library/Python/3.9/lib/python/site-packages (from mlflow) (3.18.1)\n",
      "Requirement already satisfied: prometheus-flask-exporter in /Users/agustin/Library/Python/3.9/lib/python/site-packages (from mlflow) (0.18.3)\n",
      "Requirement already satisfied: click>=7.0 in /Users/agustin/Library/Python/3.9/lib/python/site-packages (from mlflow) (8.0.3)\n",
      "Requirement already satisfied: databricks-cli>=0.8.7 in /Users/agustin/Library/Python/3.9/lib/python/site-packages (from mlflow) (0.15.0)\n",
      "Requirement already satisfied: python-editor>=0.3 in /Users/agustin/Library/Python/3.9/lib/python/site-packages (from alembic<=1.4.1->mlflow) (1.0.4)\n",
      "Requirement already satisfied: Mako in /Users/agustin/Library/Python/3.9/lib/python/site-packages (from alembic<=1.4.1->mlflow) (1.1.5)\n",
      "Requirement already satisfied: python-dateutil in /Users/agustin/Library/Python/3.9/lib/python/site-packages (from alembic<=1.4.1->mlflow) (2.8.2)\n",
      "Requirement already satisfied: six>=1.10.0 in /Users/agustin/Library/Python/3.9/lib/python/site-packages (from databricks-cli>=0.8.7->mlflow) (1.16.0)\n",
      "Requirement already satisfied: tabulate>=0.7.7 in /Users/agustin/Library/Python/3.9/lib/python/site-packages (from databricks-cli>=0.8.7->mlflow) (0.8.9)\n",
      "Requirement already satisfied: websocket-client>=0.32.0 in /Users/agustin/Library/Python/3.9/lib/python/site-packages (from docker>=4.0.0->mlflow) (1.2.1)\n",
      "Requirement already satisfied: gitdb<5,>=4.0.1 in /Users/agustin/Library/Python/3.9/lib/python/site-packages (from gitpython>=2.1.0->mlflow) (4.0.7)\n",
      "Requirement already satisfied: typing-extensions>=3.7.4.3 in /Users/agustin/Library/Python/3.9/lib/python/site-packages (from gitpython>=2.1.0->mlflow) (3.10.0.2)\n",
      "Requirement already satisfied: zipp>=0.5 in /Users/agustin/Library/Python/3.9/lib/python/site-packages (from importlib-metadata!=4.7.0,>=3.7.0->mlflow) (3.6.0)\n",
      "Requirement already satisfied: urllib3<1.27,>=1.21.1 in /Users/agustin/Library/Python/3.9/lib/python/site-packages (from requests>=2.17.3->mlflow) (1.26.7)\n",
      "Requirement already satisfied: idna<4,>=2.5 in /Users/agustin/Library/Python/3.9/lib/python/site-packages (from requests>=2.17.3->mlflow) (3.3)\n",
      "Requirement already satisfied: charset-normalizer~=2.0.0 in /Users/agustin/Library/Python/3.9/lib/python/site-packages (from requests>=2.17.3->mlflow) (2.0.7)\n",
      "Requirement already satisfied: certifi>=2017.4.17 in /Users/agustin/Library/Python/3.9/lib/python/site-packages (from requests>=2.17.3->mlflow) (2021.10.8)\n",
      "Requirement already satisfied: greenlet!=0.4.17 in /Users/agustin/Library/Python/3.9/lib/python/site-packages (from sqlalchemy->mlflow) (1.1.2)\n",
      "Requirement already satisfied: Werkzeug>=2.0 in /Users/agustin/Library/Python/3.9/lib/python/site-packages (from Flask->mlflow) (2.0.2)\n",
      "Requirement already satisfied: Jinja2>=3.0 in /Users/agustin/Library/Python/3.9/lib/python/site-packages (from Flask->mlflow) (3.0.2)\n",
      "Requirement already satisfied: itsdangerous>=2.0 in /Users/agustin/Library/Python/3.9/lib/python/site-packages (from Flask->mlflow) (2.0.1)\n",
      "Requirement already satisfied: setuptools>=3.0 in /usr/local/lib/python3.9/site-packages (from gunicorn->mlflow) (57.4.0)\n",
      "Requirement already satisfied: pyparsing>=2.0.2 in /Users/agustin/Library/Python/3.9/lib/python/site-packages (from packaging->mlflow) (2.4.7)\n",
      "Requirement already satisfied: prometheus-client in /Users/agustin/Library/Python/3.9/lib/python/site-packages (from prometheus-flask-exporter->mlflow) (0.11.0)\n",
      "Requirement already satisfied: smmap<5,>=3.0.1 in /Users/agustin/Library/Python/3.9/lib/python/site-packages (from gitdb<5,>=4.0.1->gitpython>=2.1.0->mlflow) (4.0.0)\n",
      "Requirement already satisfied: MarkupSafe>=2.0 in /Users/agustin/Library/Python/3.9/lib/python/site-packages (from Jinja2>=3.0->Flask->mlflow) (2.0.1)\n",
      "\u001b[33mWARNING: Ignoring invalid distribution -umpy (/Users/agustin/Library/Python/3.9/lib/python/site-packages)\u001b[0m\n",
      "\u001b[33mWARNING: Ignoring invalid distribution -umpy (/Users/agustin/Library/Python/3.9/lib/python/site-packages)\u001b[0m\n",
      "\u001b[33mWARNING: Ignoring invalid distribution -umpy (/Users/agustin/Library/Python/3.9/lib/python/site-packages)\u001b[0m\n",
      "\u001b[33mDEPRECATION: Configuring installation scheme with distutils config files is deprecated and will no longer work in the near future. If you are using a Homebrew or Linuxbrew Python, please see discussion at https://github.com/Homebrew/homebrew-core/issues/76621\u001b[0m\n",
      "Defaulting to user installation because normal site-packages is not writeable\n",
      "\u001b[33mWARNING: Ignoring invalid distribution -umpy (/Users/agustin/Library/Python/3.9/lib/python/site-packages)\u001b[0m\n",
      "\u001b[33mWARNING: Ignoring invalid distribution -umpy (/Users/agustin/Library/Python/3.9/lib/python/site-packages)\u001b[0m\n",
      "Requirement already satisfied: pandas in /Users/agustin/Library/Python/3.9/lib/python/site-packages (1.3.4)\n",
      "Requirement already satisfied: python-dateutil>=2.7.3 in /Users/agustin/Library/Python/3.9/lib/python/site-packages (from pandas) (2.8.2)\n",
      "Requirement already satisfied: pytz>=2017.3 in /Users/agustin/Library/Python/3.9/lib/python/site-packages (from pandas) (2021.3)\n",
      "Requirement already satisfied: numpy>=1.17.3 in /Users/agustin/Library/Python/3.9/lib/python/site-packages (from pandas) (1.21.2)\n",
      "Requirement already satisfied: six>=1.5 in /Users/agustin/Library/Python/3.9/lib/python/site-packages (from python-dateutil>=2.7.3->pandas) (1.16.0)\n",
      "\u001b[33mWARNING: Ignoring invalid distribution -umpy (/Users/agustin/Library/Python/3.9/lib/python/site-packages)\u001b[0m\n",
      "\u001b[33mWARNING: Ignoring invalid distribution -umpy (/Users/agustin/Library/Python/3.9/lib/python/site-packages)\u001b[0m\n",
      "\u001b[33mWARNING: Ignoring invalid distribution -umpy (/Users/agustin/Library/Python/3.9/lib/python/site-packages)\u001b[0m\n",
      "\u001b[33mDEPRECATION: Configuring installation scheme with distutils config files is deprecated and will no longer work in the near future. If you are using a Homebrew or Linuxbrew Python, please see discussion at https://github.com/Homebrew/homebrew-core/issues/76621\u001b[0m\n",
      "Defaulting to user installation because normal site-packages is not writeable\n",
      "\u001b[33mWARNING: Ignoring invalid distribution -umpy (/Users/agustin/Library/Python/3.9/lib/python/site-packages)\u001b[0m\n",
      "\u001b[33mWARNING: Ignoring invalid distribution -umpy (/Users/agustin/Library/Python/3.9/lib/python/site-packages)\u001b[0m\n",
      "Requirement already satisfied: sklearn in /Users/agustin/Library/Python/3.9/lib/python/site-packages (0.0)\n",
      "Requirement already satisfied: scikit-learn in /Users/agustin/Library/Python/3.9/lib/python/site-packages (from sklearn) (1.0)\n",
      "Requirement already satisfied: scipy>=1.1.0 in /Users/agustin/Library/Python/3.9/lib/python/site-packages (from scikit-learn->sklearn) (1.7.1)\n",
      "Requirement already satisfied: joblib>=0.11 in /Users/agustin/Library/Python/3.9/lib/python/site-packages (from scikit-learn->sklearn) (1.1.0)\n",
      "Requirement already satisfied: numpy>=1.14.6 in /Users/agustin/Library/Python/3.9/lib/python/site-packages (from scikit-learn->sklearn) (1.21.2)\n",
      "Requirement already satisfied: threadpoolctl>=2.0.0 in /Users/agustin/Library/Python/3.9/lib/python/site-packages (from scikit-learn->sklearn) (3.0.0)\n",
      "\u001b[33mWARNING: Ignoring invalid distribution -umpy (/Users/agustin/Library/Python/3.9/lib/python/site-packages)\u001b[0m\n",
      "\u001b[33mWARNING: Ignoring invalid distribution -umpy (/Users/agustin/Library/Python/3.9/lib/python/site-packages)\u001b[0m\n",
      "\u001b[33mWARNING: Ignoring invalid distribution -umpy (/Users/agustin/Library/Python/3.9/lib/python/site-packages)\u001b[0m\n",
      "\u001b[33mDEPRECATION: Configuring installation scheme with distutils config files is deprecated and will no longer work in the near future. If you are using a Homebrew or Linuxbrew Python, please see discussion at https://github.com/Homebrew/homebrew-core/issues/76621\u001b[0m\n",
      "Defaulting to user installation because normal site-packages is not writeable\n",
      "\u001b[33mWARNING: Ignoring invalid distribution -umpy (/Users/agustin/Library/Python/3.9/lib/python/site-packages)\u001b[0m\n",
      "\u001b[33mWARNING: Ignoring invalid distribution -umpy (/Users/agustin/Library/Python/3.9/lib/python/site-packages)\u001b[0m\n",
      "Requirement already satisfied: xgboost in /Users/agustin/Library/Python/3.9/lib/python/site-packages (1.5.0)\n",
      "Requirement already satisfied: scipy in /Users/agustin/Library/Python/3.9/lib/python/site-packages (from xgboost) (1.7.1)\n",
      "Requirement already satisfied: numpy in /Users/agustin/Library/Python/3.9/lib/python/site-packages (from xgboost) (1.21.2)\n",
      "\u001b[33mWARNING: Ignoring invalid distribution -umpy (/Users/agustin/Library/Python/3.9/lib/python/site-packages)\u001b[0m\n",
      "\u001b[33mWARNING: Ignoring invalid distribution -umpy (/Users/agustin/Library/Python/3.9/lib/python/site-packages)\u001b[0m\n",
      "\u001b[33mWARNING: Ignoring invalid distribution -umpy (/Users/agustin/Library/Python/3.9/lib/python/site-packages)\u001b[0m\n",
      "\u001b[33mDEPRECATION: Configuring installation scheme with distutils config files is deprecated and will no longer work in the near future. If you are using a Homebrew or Linuxbrew Python, please see discussion at https://github.com/Homebrew/homebrew-core/issues/76621\u001b[0m\n",
      "Defaulting to user installation because normal site-packages is not writeable\n",
      "\u001b[33mWARNING: Ignoring invalid distribution -umpy (/Users/agustin/Library/Python/3.9/lib/python/site-packages)\u001b[0m\n",
      "\u001b[33mWARNING: Ignoring invalid distribution -umpy (/Users/agustin/Library/Python/3.9/lib/python/site-packages)\u001b[0m\n",
      "Requirement already satisfied: pydotplus in /Users/agustin/Library/Python/3.9/lib/python/site-packages (2.0.2)\n",
      "Requirement already satisfied: pyparsing>=2.0.1 in /Users/agustin/Library/Python/3.9/lib/python/site-packages (from pydotplus) (2.4.7)\n",
      "\u001b[33mWARNING: Ignoring invalid distribution -umpy (/Users/agustin/Library/Python/3.9/lib/python/site-packages)\u001b[0m\n",
      "\u001b[33mWARNING: Ignoring invalid distribution -umpy (/Users/agustin/Library/Python/3.9/lib/python/site-packages)\u001b[0m\n",
      "\u001b[33mWARNING: Ignoring invalid distribution -umpy (/Users/agustin/Library/Python/3.9/lib/python/site-packages)\u001b[0m\n"
     ]
    }
   ],
   "source": [
    "!pip3 install --upgrade pip\n",
    "!pip3 install mlflow\n",
    "!pip3 install pandas\n",
    "!pip3 install sklearn\n",
    "!pip3 install xgboost\n",
    "!pip3 install pydotplus"
   ]
  },
  {
   "cell_type": "markdown",
   "metadata": {},
   "source": [
    "### Importing libraries"
   ]
  },
  {
   "cell_type": "code",
   "execution_count": 3,
   "metadata": {},
   "outputs": [],
   "source": [
    "import mlflow\n",
    "from mlflow.tracking import MlflowClient\n",
    "\n",
    "import warnings\n",
    "import numpy as np\n",
    "import pandas as pd\n",
    "import matplotlib.pyplot as plt\n",
    "import seaborn as sns\n",
    "import os\n",
    "import binascii\n",
    "\n",
    "from sklearn import tree\n",
    "from sklearn.tree import DecisionTreeClassifier\n",
    "from sklearn.tree import export_graphviz\n",
    "\n",
    "from sklearn.ensemble import RandomForestClassifier\n",
    "from sklearn.preprocessing import LabelEncoder\n",
    "from sklearn.neighbors import KNeighborsClassifier\n",
    "\n",
    "from sklearn.model_selection import train_test_split\n",
    "from sklearn.metrics import accuracy_score, f1_score\n",
    "from sklearn.metrics import classification_report, confusion_matrix\n",
    "\n",
    "from sklearn.model_selection import GridSearchCV\n",
    "from sklearn.model_selection import cross_val_score\n",
    "from sklearn.model_selection import train_test_split\n",
    "\n",
    "\n",
    "import xgboost as xgb\n",
    "import six \n",
    "from six import StringIO  \n",
    "from IPython.display import Image  \n",
    "import pydotplus\n"
   ]
  },
  {
   "cell_type": "markdown",
   "metadata": {},
   "source": [
    "### Reading files and setting variables"
   ]
  },
  {
   "cell_type": "code",
   "execution_count": 43,
   "metadata": {},
   "outputs": [],
   "source": [
    "path, file = '../../data/', 'dataset.csv'\n",
    "df = pd.read_csv (os.path.join(path, file), sep = ',')"
   ]
  },
  {
   "cell_type": "markdown",
   "metadata": {},
   "source": [
    "# Experiments Tracking"
   ]
  },
  {
   "cell_type": "markdown",
   "metadata": {},
   "source": [
    "## Functions definitions"
   ]
  },
  {
   "cell_type": "markdown",
   "metadata": {},
   "source": [
    "### Disclaimer"
   ]
  },
  {
   "cell_type": "code",
   "execution_count": 5,
   "metadata": {},
   "outputs": [
    {
     "data": {
      "text/plain": [
       "\"\\nMost of these functions have been taken from the 'EDA_Attrition_Dataset.ipynb' file, so all coding credits go to the respective author.\\n\""
      ]
     },
     "execution_count": 5,
     "metadata": {},
     "output_type": "execute_result"
    }
   ],
   "source": [
    "'''\n",
    "Most of these functions have been taken from the 'EDA_Attrition_Dataset.ipynb' file, so all coding credits go to the respective author.\n",
    "'''"
   ]
  },
  {
   "cell_type": "markdown",
   "metadata": {},
   "source": [
    "### Log MLFlow experiment"
   ]
  },
  {
   "cell_type": "code",
   "execution_count": 6,
   "metadata": {},
   "outputs": [],
   "source": [
    "def log_mlflow_experiment(exp_id, name, tags, metrics, nested=False):\n",
    "    \"\"\"\n",
    "    Logs an Mlflow experiment that includes:\n",
    "        1. Name\n",
    "        2. Tags\n",
    "            - Project name\n",
    "            - Model\n",
    "        3. Metrics\n",
    "            - Accuracy score on train and test sets\n",
    "            - F1 score on train and test sets\n",
    "\n",
    "    This function allows to create child run experiments, when \"nested\" is set to True then the resulting experiment\n",
    "    will be a child run of the current active experiment, otherwise a new parent run is created.\n",
    "\n",
    "    No return is expected as the result is the logged experiment.\n",
    "\n",
    "    Parameters:\n",
    "        exp_id (str): Experiment ID.\n",
    "        name (str): Experiment name.\n",
    "        tags (dict): Dictionary with the experiment tags.\n",
    "        metrics (dict): Dictionary with the performance metrics of the model.\n",
    "        nested (bool, defaults to False): Flag to indicate if the experiment to create is a child run.\n",
    "    \"\"\"\n",
    "    # Starting experiment\n",
    "    mlflow.start_run(experiment_id=exp_id, run_name=name, nested=nested)\n",
    "\n",
    "    # Logging experiment tags and metrics\n",
    "    mlflow.set_tags(tags)\n",
    "    mlflow.log_metrics(metrics)\n",
    "\n",
    "    # Finishing experiment\n",
    "    mlflow.end_run()"
   ]
  },
  {
   "cell_type": "markdown",
   "metadata": {},
   "source": [
    "### Calculate performance"
   ]
  },
  {
   "cell_type": "code",
   "execution_count": 7,
   "metadata": {},
   "outputs": [],
   "source": [
    "def calculate_performance(y_train, y_test, y_train_preds, y_test_preds):\n",
    "    \"\"\"\n",
    "    Calculates the performance metrics of the model on train and test sets. Considered metrics are:\n",
    "        - Accuracy score\n",
    "        - F1 score\n",
    "\n",
    "    Parameters:\n",
    "        y_train (np.ndarray): Array with the true values of the target variable on the train set.\n",
    "        y_test (np.ndarray): Array with the true values of the target variable on the test set.\n",
    "        y_train_preds (np.ndarray): Array with the predicted values of the target variable on the train set.\n",
    "        y_test_preds (np.ndarray): Array with the predicted values of the target variable on the test set.\n",
    "\n",
    "    Returns:\n",
    "        train_acc (float): Accuracy score on the train set\n",
    "        test_acc (float): Accuracy score on the test set\n",
    "        train_f1 (float): F1 score on the train set\n",
    "        test_f1 (float): F1 score on the test set\n",
    "    \"\"\"\n",
    "    # Evaluating train and test predictions with accuracy metric\n",
    "    train_acc = accuracy_score(y_train, y_train_preds)\n",
    "    test_acc = accuracy_score(y_test, y_test_preds)\n",
    "\n",
    "    # Evaluating train and test predictions with F1 Score metric\n",
    "    train_f1 = f1_score(y_train, y_train_preds)\n",
    "    test_f1 = f1_score(y_test, y_test_preds)\n",
    "\n",
    "    return (train_acc, test_acc, train_f1, test_f1)"
   ]
  },
  {
   "cell_type": "markdown",
   "metadata": {},
   "source": [
    "### Preparing dataset"
   ]
  },
  {
   "cell_type": "code",
   "execution_count": 8,
   "metadata": {},
   "outputs": [],
   "source": [
    "def preparing_dataset (df, columns = [df.columns[0], df.columns[2]], feature = df.columns[1]):\n",
    "    # Removing employee identification features\n",
    "    df.drop(columns=columns, inplace=True)\n",
    "    \n",
    "    # Filling null values\n",
    "    df.fillna(0, inplace = True)\n",
    "    # df.round(decimals = 3)\n",
    "\n",
    "    # Separating input features and target variable\n",
    "    y = df[feature]\n",
    "    X = df.drop(columns=feature)\n",
    "\n",
    "    # Encoding target variable\n",
    "    y = LabelEncoder().fit_transform(y)\n",
    "\n",
    "    # Splitting dataset into train and test sets\n",
    "    X_train, X_test, y_train, y_test = train_test_split(X, y, test_size=0.2, stratify=y)\n",
    "\n",
    "    return X_train, X_test, y_train, y_test, X, y"
   ]
  },
  {
   "cell_type": "markdown",
   "metadata": {},
   "source": [
    "## Model definitions"
   ]
  },
  {
   "cell_type": "markdown",
   "metadata": {},
   "source": [
    "### Feature Importances"
   ]
  },
  {
   "cell_type": "code",
   "execution_count": 9,
   "metadata": {},
   "outputs": [],
   "source": [
    " def feature_importances (X_train, X_test, y_train, y_test, X): \n",
    "    rfl = RandomForestClassifier()\n",
    "    rfl.fit(X_train, y_train)\n",
    "    y_rfl_pred = rfl.predict(X_test)\n",
    "\n",
    "    importances = rfl.feature_importances_ \n",
    "\n",
    "    indices = np.argsort(importances)[::-1]\n",
    "    feat_labels = X.columns[:]\n",
    "\n",
    "    for f in range(X_train.shape[1]):\n",
    "        print(\"%2d) %-*s %f\" % (f + 1, 30, \n",
    "                                feat_labels[indices[f]], \n",
    "                                importances[indices[f]]))\n",
    "\n",
    "    from sklearn.tree import DecisionTreeClassifier\n",
    "\n",
    "    clf = DecisionTreeClassifier()\n",
    "    clf.fit(X_train, y_train)\n",
    "    y_clf_pred = clf.predict(X_test)\n",
    "\n",
    "    print('Accuracy: %.4f' % accuracy_score(y_test, y_clf_pred))\n",
    "    \n",
    "    return importances, X_train.columns"
   ]
  },
  {
   "cell_type": "markdown",
   "metadata": {},
   "source": [
    "### Plot Feature Importances"
   ]
  },
  {
   "cell_type": "code",
   "execution_count": 10,
   "metadata": {},
   "outputs": [],
   "source": [
    "def plot_feature_importances (importance, names, model_type = 'RANDOM FOREST '):\n",
    "\n",
    "    #Create arrays from feature importance and feature names\n",
    "    feature_importance = np.array(importance)\n",
    "    feature_names = np.array(names)\n",
    "\n",
    "    #Create a DataFrame using a Dictionary\n",
    "    data={'feature_names':feature_names,'feature_importance':feature_importance}\n",
    "    fi_df = pd.DataFrame(data)\n",
    "\n",
    "    #Sort the DataFrame in order decreasing feature importance\n",
    "    fi_df.sort_values(by=['feature_importance'], ascending=False,inplace=True)\n",
    "\n",
    "    #Define size of bar plot\n",
    "    plt.figure(figsize=(10,15))\n",
    "    #Plot Searborn bar chart\n",
    "    sns.barplot(x=fi_df['feature_importance'], y=fi_df['feature_names'])\n",
    "    #Add chart labels\n",
    "    plt.title(model_type + 'FEATURE IMPORTANCE')\n",
    "    plt.xlabel('FEATURE IMPORTANCE')\n",
    "    plt.ylabel('FEATURE NAMES')"
   ]
  },
  {
   "cell_type": "markdown",
   "metadata": {},
   "source": [
    "### Plot Decision tree"
   ]
  },
  {
   "cell_type": "code",
   "execution_count": 46,
   "metadata": {},
   "outputs": [],
   "source": [
    "def decision_tree (X_train, y_train, max_depth = 3, criterion = 'gini'):\n",
    "    \n",
    "    X_train.rename(columns={\n",
    "        '[TF] Use of count & for_each': '[TF] Use of count and for_each',\n",
    "        '[K8] Services & Networking: Ingress': '[K8] Services and Networking: Ingress', \n",
    "        '[K8] Services & Networking: Service':'[K8] Services and Networking: Service',\n",
    "        }, inplace = True)\n",
    "    \n",
    "    X = X_train.columns\n",
    "\n",
    "    tree = DecisionTreeClassifier(criterion=criterion, # Initialize and fit classifier\n",
    "        max_depth=max_depth, random_state=1)\n",
    "    tree.fit(X_train, y_train)\n",
    "\n",
    "    dot_data = StringIO()\n",
    "    export_graphviz(tree, \n",
    "                    out_file=dot_data,  \n",
    "                    filled=True, rounded=True,\n",
    "                    special_characters=True, feature_names = X, class_names=['Hire', 'No Hire'])\n",
    "    graph = pydotplus.graph_from_dot_data(dot_data.getvalue()) \n",
    "    graph.write_png('arbol_{}_{}.png'.format(criterion, max_depth))\n",
    "    Image(graph.create_png())"
   ]
  },
  {
   "cell_type": "markdown",
   "metadata": {},
   "source": [
    "### Experiment N°1: The naive model"
   ]
  },
  {
   "cell_type": "code",
   "execution_count": 12,
   "metadata": {},
   "outputs": [],
   "source": [
    "def experiment_1 (df, y_train, y_test):\n",
    "    # Generating naive predictions\n",
    "    y_train_preds = np.zeros(len(y_train))\n",
    "    y_test_preds = np.zeros(len(y_test))\n",
    "\n",
    "    # Calculating performance metrics of the model\n",
    "    train_acc, test_acc, train_f1, test_f1 = calculate_performance(y_train, y_test, y_train_preds, y_test_preds)\n",
    "\n",
    "    # Creating and starting experiment\n",
    "    hash = str(binascii.hexlify(os.urandom(3)).decode(\"utf-8\"))\n",
    "    mlflow_exp = \"Exp N°1: Baseline Models - ID {}\".format(hash)\n",
    "    exp_id = mlflow.create_experiment(mlflow_exp)\n",
    "\n",
    "    # Logging the experiment\n",
    "    log_mlflow_experiment(\n",
    "        exp_id,\n",
    "        \"Naive Model\",\n",
    "        {\"project\": \"Caylent - Hiring process\", \"modelo\": \"naive\"},\n",
    "        {\"train_acc\": train_acc, \"test_acc\": test_acc, \"train_f1\": train_f1, \"test_f1\": test_f1}\n",
    "    )"
   ]
  },
  {
   "cell_type": "markdown",
   "metadata": {},
   "source": [
    "### Experiment N°2: The delusional model"
   ]
  },
  {
   "cell_type": "code",
   "execution_count": 13,
   "metadata": {
    "pycharm": {
     "name": "#%%\n"
    }
   },
   "outputs": [],
   "source": [
    "def experiment_2 (df, y_train, y_test): \n",
    "    # Generating naive predictions\n",
    "    y_train_preds = np.ones(len(y_train))\n",
    "    y_test_preds = np.ones(len(y_test))\n",
    "\n",
    "    # Calculating performance metrics of the model\n",
    "    train_acc, test_acc, train_f1, test_f1 = calculate_performance(y_train, y_test, y_train_preds, y_test_preds)\n",
    "\n",
    "    # Creating and starting experiment\n",
    "    hash = str(binascii.hexlify(os.urandom(3)).decode(\"utf-8\"))\n",
    "    mlflow_exp = \"Exp N°2: Baseline Models - ID {}\".format(hash)\n",
    "    exp_id = mlflow.create_experiment(mlflow_exp)\n",
    "\n",
    "    # Logging the experiment\n",
    "    log_mlflow_experiment(\n",
    "        exp_id,\n",
    "        \"Delusional Model\",\n",
    "        {\"project\": \"Caylent - Hiring process\", \"modelo\": \"delusional\"},\n",
    "        {\"train_acc\": train_acc, \"test_acc\": test_acc, \"train_f1\": train_f1, \"test_f1\": test_f1}\n",
    "    )"
   ]
  },
  {
   "cell_type": "markdown",
   "metadata": {
    "pycharm": {
     "name": "#%% md\n"
    }
   },
   "source": [
    "### Experiment N°3: KNN model with only numerical features"
   ]
  },
  {
   "cell_type": "code",
   "execution_count": 14,
   "metadata": {},
   "outputs": [],
   "source": [
    "def experiment_3 (df, X_train, X_test):\n",
    "    # Filtering numerical features\n",
    "    new_X_train = X_train.select_dtypes(include=\"number\")\n",
    "    new_X_test = X_test.select_dtypes(include=\"number\")\n",
    "\n",
    "    # Defining list of values for the K hyperparameter\n",
    "    Ks = [1, 2, 3, 4, 5]\n",
    "    \n",
    "    # Creating and starting parent experiment\n",
    "    hash = str(binascii.hexlify(os.urandom(3)).decode(\"utf-8\"))\n",
    "    mlflow_exp = \"Exp N°3: KNN Models - ID {}\".format(hash)\n",
    "    exp_id = mlflow.create_experiment(mlflow_exp)\n",
    "    mlflow.start_run(experiment_id=exp_id, run_name=\"KNN Model\")\n",
    "\n",
    "    # Looping over the different values of K\n",
    "    for k in Ks:\n",
    "        \n",
    "        # Defining and training KNN model\n",
    "        knn = KNeighborsClassifier(n_neighbors=k)\n",
    "        knn.fit(new_X_train, y_train)\n",
    "\n",
    "        # Generating predictions for train and test sets\n",
    "        y_train_preds = knn.predict(new_X_train)\n",
    "        y_test_preds = knn.predict(new_X_test)\n",
    "\n",
    "        # Calculating performance metrics of the model\n",
    "        train_acc, test_acc, train_f1, test_f1 = calculate_performance(y_train, y_test, y_train_preds, y_test_preds)\n",
    "\n",
    "        # Logging the child experiment\n",
    "        log_mlflow_experiment(\n",
    "            exp_id,\n",
    "            \"KNN, K={0}\".format(k),\n",
    "            {\"project\": \"Caylent - Hiring process\", \"modelo\": \"knn\", \"k\": k},\n",
    "            {\"train_acc\": train_acc, \"test_acc\": test_acc, \"train_f1\": train_f1, \"test_f1\": test_f1},\n",
    "            nested=True\n",
    "        )\n",
    "\n",
    "    # Finishing parent experiment\n",
    "    mlflow.end_run()"
   ]
  },
  {
   "cell_type": "markdown",
   "metadata": {
    "pycharm": {
     "name": "#%% md\n"
    }
   },
   "source": [
    "### Experiment N°4: XGBoost model"
   ]
  },
  {
   "cell_type": "code",
   "execution_count": 15,
   "metadata": {},
   "outputs": [],
   "source": [
    "def experiment_4 (X_train, X_test, y_train, y_test, max_rounds = 100):\n",
    "\n",
    "    # prepare train and test data\n",
    "    columns = [\n",
    "    '[Candidate] ID', '[Candidate] Overall',\n",
    "    'AWS EC2', 'AWS S3: Arch', 'AWS S3: Access', 'AWS S3: Classes', 'AWS S3: DR', 'AWS IAM', 'AWS Networking', 'AWS Net. App. Reliability',\n",
    "    '[TF] Configuration drifts', '[TF] Use of count  for_each', '[TF] Environments', '[TF] Managing resources', '[TF] Process', '[TF] Secrets and States', '[TF] Sensitive information', '[TF] Best practices', '[TF] Managing values',\n",
    "    '[K8] Architecture: Auto Scaling', '[K8] Architecture: Control Plane', '[K8] Core Concepts', '[K8] Services  Networking: Ingress', '[K8] Services  Networking: Service', '[K8] Workload Management'\n",
    "    ]\n",
    "    # enable auto logging\n",
    "    mlflow.xgboost.autolog()\n",
    "    \n",
    "    dtrain = xgb.DMatrix(X_train, label=y_train)\n",
    "    dtest = xgb.DMatrix(X_test, label=y_test)\n",
    "\n",
    "    # Creating and starting experiment\n",
    "    hash = str(binascii.hexlify(os.urandom(3)).decode(\"utf-8\"))\n",
    "    mlflow_exp = \"Exp N°4: XGBoost Models - ID {}\".format(hash)\n",
    "    exp_id = mlflow.create_experiment(mlflow_exp)\n",
    "\n",
    "    with mlflow.start_run():\n",
    "        params = {\n",
    "            \"objective\": \"binary:logistic\",\n",
    "            'silent': True,\n",
    "            'max_depth': 2,\n",
    "            'subsample': 0.7,\n",
    "            \"eval_metric\": \"auc\",\n",
    "            \"seed\": 42,\n",
    "        }\n",
    "\n",
    "        # Calculating performance metrics of the model\n",
    "        evals = [(dtrain, 'train'), (dtest, 'valid')]\n",
    "\n",
    "        train_acc, test_acc, train_f1, test_f1 = xgb.train(params, dtrain, evals=evals, maximize=True)\n",
    "\n",
    "        # Logging the child experiment\n",
    "        log_mlflow_experiment(\n",
    "            exp_id,\n",
    "            \"XGBoost}\",\n",
    "            {\"project\": \"Caylent - Hiring process\", \"modelo\": \"xgboost\"},\n",
    "            {\"train_acc\": train_acc, \"test_acc\": test_acc, \"train_f1\": train_f1, \"test_f1\": test_f1}\n",
    "            )\n",
    "    \n",
    "    # Finishing parent experiment\n",
    "    mlflow.end_run()"
   ]
  },
  {
   "cell_type": "markdown",
   "metadata": {},
   "source": [
    "### Experiment N°5: Random Forest"
   ]
  },
  {
   "cell_type": "code",
   "execution_count": null,
   "metadata": {},
   "outputs": [],
   "source": [
    "def random_forest (X_train, y_train, X_test, y_test):\n",
    "    \n",
    "    X_train.rename(columns={\n",
    "        '[TF] Use of count & for_each': '[TF] Use of count and for_each',\n",
    "        '[K8] Services & Networking: Ingress': '[K8] Services and Networking: Ingress', \n",
    "        '[K8] Services & Networking: Service':'[K8] Services and Networking: Service',\n",
    "        }, inplace = True)\n",
    "\n",
    "    X = X_train.columns\n",
    "\n",
    "\n",
    "    # Random Forest - Initialize and fit classifier\n",
    "    rfl = RandomForestClassifier(n_estimators=100)\n",
    "    rfl.fit(X_train, y_train)\n",
    "    y_test_pred = rfl.predict(X_test)\n",
    "    y_train_pred = rfl.predict(X_train)\n",
    "\n",
    "    print('Accuracy: %.4f' % accuracy_score(y_test, y_test_pred))\n",
    "    print('F1 score: %.4f' % f1_score(y_test, y_test_pred))\n",
    "    print(confusion_matrix(y_test, y_test_pred))\n",
    "    print(classification_report(y_test,y_test_pred))\n",
    "\n",
    "\n",
    "    # Calculating performance metrics of the model\n",
    "    y_train_pred = rfl.predict(X_train)\n",
    "    train_acc, test_acc, train_f1, test_f1  = calculate_performance(y_train, y_test, y_train_pred, y_test_pred)\n",
    "\n",
    "    # Evaluating train and test predictions with accuracy metric\n",
    "    train_acc = accuracy_score(y_train, y_train_pred)\n",
    "    test_acc = accuracy_score(y_test, y_test_pred)\n",
    "\n",
    "    # Evaluating train and test predictions with F1 Score metric\n",
    "    train_f1 = f1_score(y_train, y_train_pred)\n",
    "    test_f1 = f1_score(y_test, y_test_pred)\n",
    "\n",
    "    print ('train_acc: %s' %train_acc)\n",
    "    print ('test_acc: %s' %test_acc)\n",
    "\n",
    "    print ('train_f1: %s' %train_f1)\n",
    "    print ('test_f1: %s' %test_f1)\n",
    "\n"
   ]
  },
  {
   "cell_type": "markdown",
   "metadata": {},
   "source": [
    "## Functions executions"
   ]
  },
  {
   "cell_type": "markdown",
   "metadata": {},
   "source": [
    "### Preparing dataset"
   ]
  },
  {
   "cell_type": "code",
   "execution_count": 44,
   "metadata": {},
   "outputs": [],
   "source": [
    "X_train, X_test, y_train, y_test, X, y = preparing_dataset (df)"
   ]
  },
  {
   "cell_type": "markdown",
   "metadata": {},
   "source": [
    "### Feature Importances"
   ]
  },
  {
   "cell_type": "code",
   "execution_count": 17,
   "metadata": {},
   "outputs": [
    {
     "name": "stdout",
     "output_type": "stream",
     "text": [
      " 1) [AWS] Networking               0.189873\n",
      " 2) [AWS] Net. App. Reliability    0.119109\n",
      " 3) [AWS] S3: Arch                 0.110344\n",
      " 4) [AWS] S3: Access               0.093564\n",
      " 5) [AWS] S3: DR                   0.088704\n",
      " 6) [AWS] EC2                      0.074062\n",
      " 7) [AWS] IAM                      0.069678\n",
      " 8) [K8] Workload Management       0.030945\n",
      " 9) [AWS] S3: Classes              0.029082\n",
      "10) [K8] Core Concepts             0.023761\n",
      "11) [K8] Services & Networking: Service 0.021640\n",
      "12) [TF] Managing values           0.019504\n",
      "13) [TF] Sensitive information     0.017438\n",
      "14) [K8] Architecture: Control Plane 0.014584\n",
      "15) [K8] Services & Networking: Ingress 0.013677\n",
      "16) [TF] Configuration drifts      0.013477\n",
      "17) [K8] Architecture: Auto Scaling 0.013166\n",
      "18) [TF] Managing resources        0.011985\n",
      "19) [TF] Best practices            0.010886\n",
      "20) [TF] Environments              0.010584\n",
      "21) [TF] Secrets and States        0.009263\n",
      "22) [TF] Process                   0.009103\n",
      "23) [TF] Use of count & for_each   0.005572\n",
      "Accuracy: 0.8276\n"
     ]
    }
   ],
   "source": [
    "importances, names = feature_importances (X_train, X_test, y_train, y_test, X)"
   ]
  },
  {
   "cell_type": "markdown",
   "metadata": {},
   "source": [
    "### Plot Feature Importances"
   ]
  },
  {
   "cell_type": "code",
   "execution_count": 18,
   "metadata": {},
   "outputs": [
    {
     "data": {
      "image/png": "[encoded data removed]",
      "text/plain": [
       "<Figure size 720x1080 with 1 Axes>"
      ]
     },
     "metadata": {
      "needs_background": "light"
     },
     "output_type": "display_data"
    }
   ],
   "source": [
    "plot_feature_importances ( importances, names )"
   ]
  },
  {
   "cell_type": "markdown",
   "metadata": {},
   "source": [
    "## Plot Decision tree"
   ]
  },
  {
   "cell_type": "code",
   "execution_count": 47,
   "metadata": {},
   "outputs": [],
   "source": [
    "# for i in range (3, 7): \n",
    "decision_tree (X_train, y_train, 3, 'entropy' )"
   ]
  },
  {
   "cell_type": "markdown",
   "metadata": {},
   "source": [
    "## Model executions"
   ]
  },
  {
   "cell_type": "markdown",
   "metadata": {},
   "source": [
    "### Experiment N°1: The naive model"
   ]
  },
  {
   "cell_type": "code",
   "execution_count": null,
   "metadata": {},
   "outputs": [],
   "source": [
    "experiment_1 (df, y_train, y_test) "
   ]
  },
  {
   "cell_type": "markdown",
   "metadata": {},
   "source": [
    "### Experiment N°2: The delusional model"
   ]
  },
  {
   "cell_type": "code",
   "execution_count": null,
   "metadata": {},
   "outputs": [],
   "source": [
    "experiment_2 (df, y_train, y_test) "
   ]
  },
  {
   "cell_type": "markdown",
   "metadata": {
    "pycharm": {
     "name": "#%% md\n"
    }
   },
   "source": [
    "### Experiment N°3: KNN model with only numerical features"
   ]
  },
  {
   "cell_type": "code",
   "execution_count": null,
   "metadata": {},
   "outputs": [
    {
     "name": "stderr",
     "output_type": "stream",
     "text": [
      "/Users/agustin/Library/Python/3.9/lib/python/site-packages/sklearn/base.py:441: UserWarning: X does not have valid feature names, but KNeighborsClassifier was fitted with feature names\n",
      "  warnings.warn(\n",
      "/Users/agustin/Library/Python/3.9/lib/python/site-packages/sklearn/base.py:484: FutureWarning: The feature names should match those that were passed during fit. Starting version 1.2, an error will be raised.\n",
      "Feature names unseen at fit time:\n",
      "- [K8] Services & Networking: Ingress\n",
      "- [K8] Services & Networking: Service\n",
      "- [TF] Use of count & for_each\n",
      "Feature names seen at fit time, yet now missing:\n",
      "- [K8] Services and Networking: Ingress\n",
      "- [K8] Services and Networking: Service\n",
      "- [TF] Use of count and for_each\n",
      "\n",
      "  warnings.warn(message, FutureWarning)\n",
      "/Users/agustin/Library/Python/3.9/lib/python/site-packages/sklearn/base.py:441: UserWarning: X does not have valid feature names, but KNeighborsClassifier was fitted with feature names\n",
      "  warnings.warn(\n",
      "/Users/agustin/Library/Python/3.9/lib/python/site-packages/sklearn/base.py:441: UserWarning: X does not have valid feature names, but KNeighborsClassifier was fitted with feature names\n",
      "  warnings.warn(\n",
      "/Users/agustin/Library/Python/3.9/lib/python/site-packages/sklearn/base.py:484: FutureWarning: The feature names should match those that were passed during fit. Starting version 1.2, an error will be raised.\n",
      "Feature names unseen at fit time:\n",
      "- [K8] Services & Networking: Ingress\n",
      "- [K8] Services & Networking: Service\n",
      "- [TF] Use of count & for_each\n",
      "Feature names seen at fit time, yet now missing:\n",
      "- [K8] Services and Networking: Ingress\n",
      "- [K8] Services and Networking: Service\n",
      "- [TF] Use of count and for_each\n",
      "\n",
      "  warnings.warn(message, FutureWarning)\n",
      "/Users/agustin/Library/Python/3.9/lib/python/site-packages/sklearn/base.py:441: UserWarning: X does not have valid feature names, but KNeighborsClassifier was fitted with feature names\n",
      "  warnings.warn(\n",
      "/Users/agustin/Library/Python/3.9/lib/python/site-packages/sklearn/base.py:441: UserWarning: X does not have valid feature names, but KNeighborsClassifier was fitted with feature names\n",
      "  warnings.warn(\n",
      "/Users/agustin/Library/Python/3.9/lib/python/site-packages/sklearn/base.py:484: FutureWarning: The feature names should match those that were passed during fit. Starting version 1.2, an error will be raised.\n",
      "Feature names unseen at fit time:\n",
      "- [K8] Services & Networking: Ingress\n",
      "- [K8] Services & Networking: Service\n",
      "- [TF] Use of count & for_each\n",
      "Feature names seen at fit time, yet now missing:\n",
      "- [K8] Services and Networking: Ingress\n",
      "- [K8] Services and Networking: Service\n",
      "- [TF] Use of count and for_each\n",
      "\n",
      "  warnings.warn(message, FutureWarning)\n",
      "/Users/agustin/Library/Python/3.9/lib/python/site-packages/sklearn/base.py:441: UserWarning: X does not have valid feature names, but KNeighborsClassifier was fitted with feature names\n",
      "  warnings.warn(\n",
      "/Users/agustin/Library/Python/3.9/lib/python/site-packages/sklearn/base.py:441: UserWarning: X does not have valid feature names, but KNeighborsClassifier was fitted with feature names\n",
      "  warnings.warn(\n",
      "/Users/agustin/Library/Python/3.9/lib/python/site-packages/sklearn/base.py:484: FutureWarning: The feature names should match those that were passed during fit. Starting version 1.2, an error will be raised.\n",
      "Feature names unseen at fit time:\n",
      "- [K8] Services & Networking: Ingress\n",
      "- [K8] Services & Networking: Service\n",
      "- [TF] Use of count & for_each\n",
      "Feature names seen at fit time, yet now missing:\n",
      "- [K8] Services and Networking: Ingress\n",
      "- [K8] Services and Networking: Service\n",
      "- [TF] Use of count and for_each\n",
      "\n",
      "  warnings.warn(message, FutureWarning)\n",
      "/Users/agustin/Library/Python/3.9/lib/python/site-packages/sklearn/base.py:441: UserWarning: X does not have valid feature names, but KNeighborsClassifier was fitted with feature names\n",
      "  warnings.warn(\n",
      "/Users/agustin/Library/Python/3.9/lib/python/site-packages/sklearn/base.py:441: UserWarning: X does not have valid feature names, but KNeighborsClassifier was fitted with feature names\n",
      "  warnings.warn(\n",
      "/Users/agustin/Library/Python/3.9/lib/python/site-packages/sklearn/base.py:484: FutureWarning: The feature names should match those that were passed during fit. Starting version 1.2, an error will be raised.\n",
      "Feature names unseen at fit time:\n",
      "- [K8] Services & Networking: Ingress\n",
      "- [K8] Services & Networking: Service\n",
      "- [TF] Use of count & for_each\n",
      "Feature names seen at fit time, yet now missing:\n",
      "- [K8] Services and Networking: Ingress\n",
      "- [K8] Services and Networking: Service\n",
      "- [TF] Use of count and for_each\n",
      "\n",
      "  warnings.warn(message, FutureWarning)\n",
      "/Users/agustin/Library/Python/3.9/lib/python/site-packages/sklearn/base.py:441: UserWarning: X does not have valid feature names, but KNeighborsClassifier was fitted with feature names\n",
      "  warnings.warn(\n"
     ]
    }
   ],
   "source": [
    "experiment_3 (df, X_train, X_test) "
   ]
  },
  {
   "cell_type": "markdown",
   "metadata": {
    "pycharm": {
     "name": "#%% md\n"
    }
   },
   "source": [
    "### Experiment N°4: XGBoost model"
   ]
  },
  {
   "cell_type": "code",
   "execution_count": null,
   "metadata": {},
   "outputs": [],
   "source": [
    "# Commented cause breaks kernel\n",
    "# experiment_4 (X_train, X_test, y_train, y_test)"
   ]
  },
  {
   "cell_type": "markdown",
   "metadata": {},
   "source": [
    "### Experiment N°5: Random Forest"
   ]
  },
  {
   "cell_type": "code",
   "execution_count": 67,
   "metadata": {},
   "outputs": [
    {
     "name": "stdout",
     "output_type": "stream",
     "text": [
      "Accuracy: 0.8966\n",
      "F1 score: 0.9091\n",
      "[[11  2]\n",
      " [ 1 15]]\n",
      "              precision    recall  f1-score   support\n",
      "\n",
      "           0       0.92      0.85      0.88        13\n",
      "           1       0.88      0.94      0.91        16\n",
      "\n",
      "    accuracy                           0.90        29\n",
      "   macro avg       0.90      0.89      0.89        29\n",
      "weighted avg       0.90      0.90      0.90        29\n",
      "\n",
      "train_acc: 1.0\n",
      "test_acc: 0.896551724137931\n",
      "train_f1: 1.0\n",
      "test_f1: 0.9090909090909091\n"
     ]
    },
    {
     "name": "stderr",
     "output_type": "stream",
     "text": [
      "/Users/agustin/Library/Python/3.9/lib/python/site-packages/sklearn/base.py:484: FutureWarning: The feature names should match those that were passed during fit. Starting version 1.2, an error will be raised.\n",
      "Feature names unseen at fit time:\n",
      "- [K8] Services & Networking: Ingress\n",
      "- [K8] Services & Networking: Service\n",
      "- [TF] Use of count & for_each\n",
      "Feature names seen at fit time, yet now missing:\n",
      "- [K8] Services and Networking: Ingress\n",
      "- [K8] Services and Networking: Service\n",
      "- [TF] Use of count and for_each\n",
      "\n",
      "  warnings.warn(message, FutureWarning)\n"
     ]
    }
   ],
   "source": [
    "random_forest (X_train, y_train, X_test, y_test)"
   ]
  },
  {
   "cell_type": "markdown",
   "metadata": {},
   "source": [
    "## MLFlow"
   ]
  },
  {
   "cell_type": "code",
   "execution_count": null,
   "metadata": {},
   "outputs": [],
   "source": [
    "run, runs = pd.DataFrame(), pd.DataFrame()\n",
    "for i in range(0, 8):\n",
    "    run = mlflow.search_runs(experiment_ids = str(i) )\n",
    "    runs = runs.append(run)\n",
    "\n",
    "runs = runs[runs['metrics.train_acc'].notna()]\n",
    "runs.drop_duplicates(inplace = True)\n",
    "runs.reset_index(inplace = True)\n",
    "runs.drop(columns = ['index'], axis = 1 )\n",
    "runs.to_csv('../../outputs/files/runs.csv', encoding = 'UTF-8')"
   ]
  }
 ],
 "metadata": {
  "interpreter": {
   "hash": "aee8b7b246df8f9039afb4144a1f6fd8d2ca17a180786b69acc140d282b71a49"
  },
  "kernelspec": {
   "display_name": "Python 3.10.0 64-bit",
   "name": "python3"
  },
  "language_info": {
   "codemirror_mode": {
    "name": "ipython",
    "version": 3
   },
   "file_extension": ".py",
   "mimetype": "text/x-python",
   "name": "python",
   "nbconvert_exporter": "python",
   "pygments_lexer": "ipython3",
   "version": "3.9.7"
  },
  "orig_nbformat": 4
 },
 "nbformat": 4,
 "nbformat_minor": 2
}
