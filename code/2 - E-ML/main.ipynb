{
 "cells": [
  {
   "cell_type": "markdown",
   "metadata": {},
   "source": [
    "# Packages"
   ]
  },
  {
   "cell_type": "markdown",
   "metadata": {},
   "source": [
    "### Downloading packages \n",
    "#### Select and run just either one of them"
   ]
  },
  {
   "cell_type": "code",
   "execution_count": null,
   "metadata": {},
   "outputs": [],
   "source": [
    "!pip3 install --upgrade pip\n",
    "!pip3 install mlflow\n",
    "# !pip3 install uuid\n",
    "!pip3 install pandas\n",
    "!pip3 install sklearn"
   ]
  },
  {
   "cell_type": "markdown",
   "metadata": {},
   "source": [
    "### Importing libraries"
   ]
  },
  {
   "cell_type": "code",
   "execution_count": 35,
   "metadata": {},
   "outputs": [],
   "source": [
    "import mlflow\n",
    "import warnings\n",
    "import numpy as np\n",
    "import pandas as pd\n",
    "import os\n",
    "import binascii\n",
    "from sklearn.preprocessing import LabelEncoder\n",
    "from sklearn.neighbors import KNeighborsClassifier\n",
    "from sklearn.model_selection import train_test_split\n",
    "from sklearn.metrics import accuracy_score, f1_score"
   ]
  },
  {
   "cell_type": "markdown",
   "metadata": {},
   "source": [
    "### Reading files and setting variables"
   ]
  },
  {
   "cell_type": "code",
   "execution_count": 3,
   "metadata": {},
   "outputs": [],
   "source": [
    "path, file = '../../data/', 'dataset.csv'\n",
    "df = pd.read_csv (os.path.join(path, file), sep = ',')"
   ]
  },
  {
   "cell_type": "markdown",
   "metadata": {},
   "source": [
    "# Experiments Tracking"
   ]
  },
  {
   "cell_type": "markdown",
   "metadata": {},
   "source": [
    "## Functions definitions"
   ]
  },
  {
   "cell_type": "markdown",
   "metadata": {},
   "source": [
    "### Disclaimer"
   ]
  },
  {
   "cell_type": "code",
   "execution_count": 4,
   "metadata": {},
   "outputs": [
    {
     "data": {
      "text/plain": [
       "\"\\nMost of these functions have been taken from the 'EDA_Attrition_Dataset.ipynb' file, so all coding credits go to the respective author.\\n\""
      ]
     },
     "execution_count": 4,
     "metadata": {},
     "output_type": "execute_result"
    }
   ],
   "source": [
    "'''\n",
    "Most of these functions have been taken from the 'EDA_Attrition_Dataset.ipynb' file, so all coding credits go to the respective author.\n",
    "'''"
   ]
  },
  {
   "cell_type": "markdown",
   "metadata": {},
   "source": [
    "### Log MLFlow experiment"
   ]
  },
  {
   "cell_type": "code",
   "execution_count": 5,
   "metadata": {},
   "outputs": [],
   "source": [
    "def log_mlflow_experiment(exp_id, name, tags, metrics, nested=False):\n",
    "    \"\"\"\n",
    "    Logs an Mlflow experiment that includes:\n",
    "        1. Name\n",
    "        2. Tags\n",
    "            - Project name\n",
    "            - Model\n",
    "        3. Metrics\n",
    "            - Accuracy score on train and test sets\n",
    "            - F1 score on train and test sets\n",
    "\n",
    "    This function allows to create child run experiments, when \"nested\" is set to True then the resulting experiment\n",
    "    will be a child run of the current active experiment, otherwise a new parent run is created.\n",
    "\n",
    "    No return is expected as the result is the logged experiment.\n",
    "\n",
    "    Parameters:\n",
    "        exp_id (str): Experiment ID.\n",
    "        name (str): Experiment name.\n",
    "        tags (dict): Dictionary with the experiment tags.\n",
    "        metrics (dict): Dictionary with the performance metrics of the model.\n",
    "        nested (bool, defaults to False): Flag to indicate if the experiment to create is a child run.\n",
    "    \"\"\"\n",
    "    # Starting experiment\n",
    "    mlflow.start_run(experiment_id=exp_id, run_name=name, nested=nested)\n",
    "\n",
    "    # Logging experiment tags and metrics\n",
    "    mlflow.set_tags(tags)\n",
    "    mlflow.log_metrics(metrics)\n",
    "\n",
    "    # Finishing experiment\n",
    "    mlflow.end_run()"
   ]
  },
  {
   "cell_type": "markdown",
   "metadata": {},
   "source": [
    "### Calculate performance"
   ]
  },
  {
   "cell_type": "code",
   "execution_count": 6,
   "metadata": {},
   "outputs": [],
   "source": [
    "def calculate_performance(y_train, y_test, y_train_preds, y_test_preds):\n",
    "    \"\"\"\n",
    "    Calculates the performance metrics of the model on train and test sets. Considered metrics are:\n",
    "        - Accuracy score\n",
    "        - F1 score\n",
    "\n",
    "    Parameters:\n",
    "        y_train (np.ndarray): Array with the true values of the target variable on the train set.\n",
    "        y_test (np.ndarray): Array with the true values of the target variable on the test set.\n",
    "        y_train_preds (np.ndarray): Array with the predicted values of the target variable on the train set.\n",
    "        y_test_preds (np.ndarray): Array with the predicted values of the target variable on the test set.\n",
    "\n",
    "    Returns:\n",
    "        train_acc (float): Accuracy score on the train set\n",
    "        test_acc (float): Accuracy score on the test set\n",
    "        train_f1 (float): F1 score on the train set\n",
    "        test_f1 (float): F1 score on the test set\n",
    "    \"\"\"\n",
    "    # Evaluating train and test predictions with accuracy metric\n",
    "    train_acc = accuracy_score(y_train, y_train_preds)\n",
    "    test_acc = accuracy_score(y_test, y_test_preds)\n",
    "\n",
    "    # Evaluating train and test predictions with F1 Score metric\n",
    "    train_f1 = f1_score(y_train, y_train_preds)\n",
    "    test_f1 = f1_score(y_test, y_test_preds)\n",
    "\n",
    "    return (train_acc, test_acc, train_f1, test_f1)"
   ]
  },
  {
   "cell_type": "markdown",
   "metadata": {},
   "source": [
    "### Preparing dataset"
   ]
  },
  {
   "cell_type": "code",
   "execution_count": 7,
   "metadata": {},
   "outputs": [],
   "source": [
    "def preparing_dataset (df, id = df.columns[0], feature = df.columns[1]):\n",
    "    # Removing employee identification features\n",
    "    df.drop(columns=id, inplace=True)\n",
    "    \n",
    "    # Filling null values\n",
    "    df.fillna(0, inplace = True)\n",
    "    # df.round(decimals = 3)\n",
    "\n",
    "    # Separating input features and target variable\n",
    "    y = df[feature]\n",
    "    X = df.drop(columns=feature)\n",
    "\n",
    "    # Encoding target variable\n",
    "    y = LabelEncoder().fit_transform(y)\n",
    "\n",
    "    # Splitting dataset into train and test sets\n",
    "    X_train, X_test, y_train, y_test = train_test_split(X, y, test_size=0.2, stratify=y)\n",
    "\n",
    "    return X_train, X_test, y_train, y_test"
   ]
  },
  {
   "cell_type": "markdown",
   "metadata": {},
   "source": [
    "## Model definitions"
   ]
  },
  {
   "cell_type": "markdown",
   "metadata": {},
   "source": [
    "### Experiment N°1-1: The naive model (always predicts 0)"
   ]
  },
  {
   "cell_type": "code",
   "execution_count": 8,
   "metadata": {},
   "outputs": [],
   "source": [
    "def experiment_1 (df, y_train, y_test):\n",
    "    # Generating naive predictions\n",
    "    y_train_preds = np.zeros(len(y_train))\n",
    "    y_test_preds = np.zeros(len(y_test))\n",
    "\n",
    "    # Calculating performance metrics of the model\n",
    "    train_acc, test_acc, train_f1, test_f1 = calculate_performance(y_train, y_test, y_train_preds, y_test_preds)\n",
    "\n",
    "    # Creating and starting experiment\n",
    "    mlflow_exp = r\"Exp N°1: Baseline Models\"\n",
    "    exp_id = mlflow.create_experiment(mlflow_exp)\n",
    "\n",
    "    # Logging the experiment\n",
    "    log_mlflow_experiment(\n",
    "        exp_id,\n",
    "        \"Naive Model\",\n",
    "        {\"project\": \"Caylent - Hiring process\", \"modelo\": \"naive\"},\n",
    "        {\"train_acc\": train_acc, \"test_acc\": test_acc, \"train_f1\": train_f1, \"test_f1\": test_f1}\n",
    "    )"
   ]
  },
  {
   "cell_type": "markdown",
   "metadata": {},
   "source": [
    "### Experiment N°1-2: The delusional model (always predicts 1)"
   ]
  },
  {
   "cell_type": "code",
   "execution_count": 9,
   "metadata": {
    "pycharm": {
     "name": "#%%\n"
    }
   },
   "outputs": [],
   "source": [
    "def experiment_2 (df, y_train, y_test): \n",
    "    # Generating naive predictions\n",
    "    y_train_preds = np.ones(len(y_train))\n",
    "    y_test_preds = np.ones(len(y_test))\n",
    "\n",
    "    # Calculating performance metrics of the model\n",
    "    train_acc, test_acc, train_f1, test_f1 = calculate_performance(y_train, y_test, y_train_preds, y_test_preds)\n",
    "\n",
    "    # Creating and starting experiment\n",
    "    mlflow_exp = r\"Exp N°2: Baseline Models\"\n",
    "    exp_id = mlflow.create_experiment(mlflow_exp)\n",
    "\n",
    "    # Logging the experiment\n",
    "    log_mlflow_experiment(\n",
    "        exp_id,\n",
    "        \"Delusional Model\",\n",
    "        {\"project\": \"Caylent - Hiring process\", \"modelo\": \"delusional\"},\n",
    "        {\"train_acc\": train_acc, \"test_acc\": test_acc, \"train_f1\": train_f1, \"test_f1\": test_f1}\n",
    "    )"
   ]
  },
  {
   "cell_type": "markdown",
   "metadata": {
    "pycharm": {
     "name": "#%% md\n"
    }
   },
   "source": [
    "### Experiment N°3: KNN model with only numerical features"
   ]
  },
  {
   "cell_type": "code",
   "execution_count": 36,
   "metadata": {},
   "outputs": [],
   "source": [
    "def experiment_3 (df, X_train, X_test):\n",
    "    # Filtering numerical features\n",
    "    new_X_train = X_train.select_dtypes(include=\"number\")\n",
    "    new_X_test = X_test.select_dtypes(include=\"number\")\n",
    "\n",
    "    # Defining list of values for the K hyperparameter\n",
    "    Ks = [1, 2, 3, 4, 5]\n",
    "    \n",
    "    # Creating and starting parent experiment\n",
    "    hash = str(binascii.hexlify(os.urandom(3)).decode(\"utf-8\"))\n",
    "    mlflow_exp = \"Exp N°3: KNN Models - ID {}\".format(hash)\n",
    "    exp_id = mlflow.create_experiment(mlflow_exp)\n",
    "    mlflow.start_run(experiment_id=exp_id, run_name=\"KNN Model\")\n",
    "\n",
    "    # Looping over the different values of K\n",
    "    for k in Ks:\n",
    "        \n",
    "        # Defining and training KNN model\n",
    "        knn = KNeighborsClassifier(n_neighbors=k)\n",
    "        knn.fit(new_X_train, y_train)\n",
    "\n",
    "        # Generating predictions for train and test sets\n",
    "        y_train_preds = knn.predict(new_X_train)\n",
    "        y_test_preds = knn.predict(new_X_test)\n",
    "\n",
    "        # Calculating performance metrics of the model\n",
    "        train_acc, test_acc, train_f1, test_f1 = calculate_performance(y_train, y_test, y_train_preds, y_test_preds)\n",
    "\n",
    "        # Logging the child experiment\n",
    "        log_mlflow_experiment(\n",
    "            exp_id,\n",
    "            \"KNN, K={0}\".format(k),\n",
    "            {\"project\": \"Caylent - Hiring process\", \"modelo\": \"knn\", \"k\": k},\n",
    "            {\"train_acc\": train_acc, \"test_acc\": test_acc, \"train_f1\": train_f1, \"test_f1\": test_f1},\n",
    "            nested=True\n",
    "        )\n",
    "\n",
    "    # Finishing parent experiment\n",
    "    mlflow.end_run()"
   ]
  },
  {
   "cell_type": "markdown",
   "metadata": {},
   "source": [
    "## Functions executions"
   ]
  },
  {
   "cell_type": "markdown",
   "metadata": {},
   "source": [
    "### Preparing dataset"
   ]
  },
  {
   "cell_type": "code",
   "execution_count": 11,
   "metadata": {},
   "outputs": [],
   "source": [
    "X_train, X_test, y_train, y_test = preparing_dataset (df)"
   ]
  },
  {
   "cell_type": "markdown",
   "metadata": {},
   "source": [
    "### Experiment 1"
   ]
  },
  {
   "cell_type": "code",
   "execution_count": 12,
   "metadata": {},
   "outputs": [],
   "source": [
    "experiment_1 (df, y_train, y_test) "
   ]
  },
  {
   "cell_type": "code",
   "execution_count": 13,
   "metadata": {},
   "outputs": [],
   "source": [
    "experiment_2 (df, y_train, y_test) "
   ]
  },
  {
   "cell_type": "code",
   "execution_count": 14,
   "metadata": {},
   "outputs": [
    {
     "data": {
      "text/html": [
       "<div>\n",
       "<style scoped>\n",
       "    .dataframe tbody tr th:only-of-type {\n",
       "        vertical-align: middle;\n",
       "    }\n",
       "\n",
       "    .dataframe tbody tr th {\n",
       "        vertical-align: top;\n",
       "    }\n",
       "\n",
       "    .dataframe thead th {\n",
       "        text-align: right;\n",
       "    }\n",
       "</style>\n",
       "<table border=\"1\" class=\"dataframe\">\n",
       "  <thead>\n",
       "    <tr style=\"text-align: right;\">\n",
       "      <th></th>\n",
       "      <th>[Candidate] Hired</th>\n",
       "      <th>[Candidate] Overall</th>\n",
       "      <th>[AWS] EC2</th>\n",
       "      <th>[AWS] S3: Arch</th>\n",
       "      <th>[AWS] S3: Access</th>\n",
       "      <th>[AWS] S3: Classes</th>\n",
       "      <th>[AWS] S3: DR</th>\n",
       "      <th>[AWS] IAM</th>\n",
       "      <th>[AWS] Networking</th>\n",
       "      <th>[AWS] Net. App. Reliability</th>\n",
       "      <th>...</th>\n",
       "      <th>[TF] Secrets and States</th>\n",
       "      <th>[TF] Sensitive information</th>\n",
       "      <th>[TF] Best practices</th>\n",
       "      <th>[TF] Managing values</th>\n",
       "      <th>[K8] Architecture: Auto Scaling</th>\n",
       "      <th>[K8] Architecture: Control Plane</th>\n",
       "      <th>[K8] Core Concepts</th>\n",
       "      <th>[K8] Services &amp; Networking: Ingress</th>\n",
       "      <th>[K8] Services &amp; Networking: Service</th>\n",
       "      <th>[K8] Workload Management</th>\n",
       "    </tr>\n",
       "  </thead>\n",
       "  <tbody>\n",
       "    <tr>\n",
       "      <th>0</th>\n",
       "      <td>Yes</td>\n",
       "      <td>64.3444</td>\n",
       "      <td>87.5</td>\n",
       "      <td>100.0</td>\n",
       "      <td>50.0</td>\n",
       "      <td>50.0</td>\n",
       "      <td>50.0</td>\n",
       "      <td>0.0</td>\n",
       "      <td>100.0</td>\n",
       "      <td>100.0</td>\n",
       "      <td>...</td>\n",
       "      <td>33.33</td>\n",
       "      <td>75.0</td>\n",
       "      <td>75.0</td>\n",
       "      <td>100.0</td>\n",
       "      <td>50.0</td>\n",
       "      <td>50.0</td>\n",
       "      <td>50.0</td>\n",
       "      <td>50.0</td>\n",
       "      <td>100.0</td>\n",
       "      <td>100.0</td>\n",
       "    </tr>\n",
       "    <tr>\n",
       "      <th>1</th>\n",
       "      <td>Yes</td>\n",
       "      <td>78.0560</td>\n",
       "      <td>100.0</td>\n",
       "      <td>100.0</td>\n",
       "      <td>50.0</td>\n",
       "      <td>100.0</td>\n",
       "      <td>100.0</td>\n",
       "      <td>40.0</td>\n",
       "      <td>100.0</td>\n",
       "      <td>100.0</td>\n",
       "      <td>...</td>\n",
       "      <td>0.00</td>\n",
       "      <td>0.0</td>\n",
       "      <td>0.0</td>\n",
       "      <td>0.0</td>\n",
       "      <td>0.0</td>\n",
       "      <td>0.0</td>\n",
       "      <td>0.0</td>\n",
       "      <td>0.0</td>\n",
       "      <td>0.0</td>\n",
       "      <td>0.0</td>\n",
       "    </tr>\n",
       "    <tr>\n",
       "      <th>2</th>\n",
       "      <td>Yes</td>\n",
       "      <td>69.3444</td>\n",
       "      <td>87.5</td>\n",
       "      <td>50.0</td>\n",
       "      <td>50.0</td>\n",
       "      <td>0.0</td>\n",
       "      <td>50.0</td>\n",
       "      <td>80.0</td>\n",
       "      <td>100.0</td>\n",
       "      <td>100.0</td>\n",
       "      <td>...</td>\n",
       "      <td>0.00</td>\n",
       "      <td>75.0</td>\n",
       "      <td>50.0</td>\n",
       "      <td>80.0</td>\n",
       "      <td>25.0</td>\n",
       "      <td>25.0</td>\n",
       "      <td>100.0</td>\n",
       "      <td>100.0</td>\n",
       "      <td>100.0</td>\n",
       "      <td>100.0</td>\n",
       "    </tr>\n",
       "    <tr>\n",
       "      <th>3</th>\n",
       "      <td>Yes</td>\n",
       "      <td>55.2780</td>\n",
       "      <td>87.5</td>\n",
       "      <td>0.0</td>\n",
       "      <td>100.0</td>\n",
       "      <td>100.0</td>\n",
       "      <td>50.0</td>\n",
       "      <td>40.0</td>\n",
       "      <td>87.5</td>\n",
       "      <td>25.0</td>\n",
       "      <td>...</td>\n",
       "      <td>0.00</td>\n",
       "      <td>0.0</td>\n",
       "      <td>0.0</td>\n",
       "      <td>0.0</td>\n",
       "      <td>0.0</td>\n",
       "      <td>0.0</td>\n",
       "      <td>0.0</td>\n",
       "      <td>0.0</td>\n",
       "      <td>0.0</td>\n",
       "      <td>0.0</td>\n",
       "    </tr>\n",
       "    <tr>\n",
       "      <th>4</th>\n",
       "      <td>Yes</td>\n",
       "      <td>83.4200</td>\n",
       "      <td>100.0</td>\n",
       "      <td>100.0</td>\n",
       "      <td>100.0</td>\n",
       "      <td>50.0</td>\n",
       "      <td>100.0</td>\n",
       "      <td>80.0</td>\n",
       "      <td>100.0</td>\n",
       "      <td>87.5</td>\n",
       "      <td>...</td>\n",
       "      <td>0.00</td>\n",
       "      <td>0.0</td>\n",
       "      <td>0.0</td>\n",
       "      <td>0.0</td>\n",
       "      <td>75.0</td>\n",
       "      <td>75.0</td>\n",
       "      <td>100.0</td>\n",
       "      <td>75.0</td>\n",
       "      <td>100.0</td>\n",
       "      <td>100.0</td>\n",
       "    </tr>\n",
       "  </tbody>\n",
       "</table>\n",
       "<p>5 rows × 25 columns</p>\n",
       "</div>"
      ],
      "text/plain": [
       "  [Candidate] Hired  [Candidate] Overall  [AWS] EC2  [AWS] S3: Arch  \\\n",
       "0               Yes              64.3444       87.5           100.0   \n",
       "1               Yes              78.0560      100.0           100.0   \n",
       "2               Yes              69.3444       87.5            50.0   \n",
       "3               Yes              55.2780       87.5             0.0   \n",
       "4               Yes              83.4200      100.0           100.0   \n",
       "\n",
       "   [AWS] S3: Access  [AWS] S3: Classes  [AWS] S3: DR  [AWS] IAM  \\\n",
       "0              50.0               50.0          50.0        0.0   \n",
       "1              50.0              100.0         100.0       40.0   \n",
       "2              50.0                0.0          50.0       80.0   \n",
       "3             100.0              100.0          50.0       40.0   \n",
       "4             100.0               50.0         100.0       80.0   \n",
       "\n",
       "   [AWS] Networking  [AWS] Net. App. Reliability  ...  \\\n",
       "0             100.0                        100.0  ...   \n",
       "1             100.0                        100.0  ...   \n",
       "2             100.0                        100.0  ...   \n",
       "3              87.5                         25.0  ...   \n",
       "4             100.0                         87.5  ...   \n",
       "\n",
       "   [TF] Secrets and States  [TF] Sensitive information  [TF] Best practices  \\\n",
       "0                    33.33                        75.0                 75.0   \n",
       "1                     0.00                         0.0                  0.0   \n",
       "2                     0.00                        75.0                 50.0   \n",
       "3                     0.00                         0.0                  0.0   \n",
       "4                     0.00                         0.0                  0.0   \n",
       "\n",
       "   [TF] Managing values  [K8] Architecture: Auto Scaling  \\\n",
       "0                 100.0                             50.0   \n",
       "1                   0.0                              0.0   \n",
       "2                  80.0                             25.0   \n",
       "3                   0.0                              0.0   \n",
       "4                   0.0                             75.0   \n",
       "\n",
       "   [K8] Architecture: Control Plane  [K8] Core Concepts  \\\n",
       "0                              50.0                50.0   \n",
       "1                               0.0                 0.0   \n",
       "2                              25.0               100.0   \n",
       "3                               0.0                 0.0   \n",
       "4                              75.0               100.0   \n",
       "\n",
       "   [K8] Services & Networking: Ingress  [K8] Services & Networking: Service  \\\n",
       "0                                 50.0                                100.0   \n",
       "1                                  0.0                                  0.0   \n",
       "2                                100.0                                100.0   \n",
       "3                                  0.0                                  0.0   \n",
       "4                                 75.0                                100.0   \n",
       "\n",
       "   [K8] Workload Management  \n",
       "0                     100.0  \n",
       "1                       0.0  \n",
       "2                     100.0  \n",
       "3                       0.0  \n",
       "4                     100.0  \n",
       "\n",
       "[5 rows x 25 columns]"
      ]
     },
     "execution_count": 14,
     "metadata": {},
     "output_type": "execute_result"
    }
   ],
   "source": [
    "df.head()"
   ]
  },
  {
   "cell_type": "code",
   "execution_count": 22,
   "metadata": {},
   "outputs": [],
   "source": [
    "df.columns = [\n",
    "    'A', 'B',\n",
    "    'C', 'D','E', 'F','G', 'H','I', 'J','K', 'L','M', 'N','O', 'P','Q', 'R','S', 'T','W', 'X',\n",
    "    'Y', 'Z','AB'\n",
    "]"
   ]
  },
  {
   "cell_type": "code",
   "execution_count": 37,
   "metadata": {},
   "outputs": [
    {
     "name": "stderr",
     "output_type": "stream",
     "text": [
      "/Library/Frameworks/Python.framework/Versions/3.8/lib/python3.8/site-packages/sklearn/base.py:441: UserWarning: X does not have valid feature names, but KNeighborsClassifier was fitted with feature names\n",
      "  warnings.warn(\n",
      "/Library/Frameworks/Python.framework/Versions/3.8/lib/python3.8/site-packages/sklearn/base.py:441: UserWarning: X does not have valid feature names, but KNeighborsClassifier was fitted with feature names\n",
      "  warnings.warn(\n",
      "/Library/Frameworks/Python.framework/Versions/3.8/lib/python3.8/site-packages/sklearn/base.py:441: UserWarning: X does not have valid feature names, but KNeighborsClassifier was fitted with feature names\n",
      "  warnings.warn(\n",
      "/Library/Frameworks/Python.framework/Versions/3.8/lib/python3.8/site-packages/sklearn/base.py:441: UserWarning: X does not have valid feature names, but KNeighborsClassifier was fitted with feature names\n",
      "  warnings.warn(\n",
      "/Library/Frameworks/Python.framework/Versions/3.8/lib/python3.8/site-packages/sklearn/base.py:441: UserWarning: X does not have valid feature names, but KNeighborsClassifier was fitted with feature names\n",
      "  warnings.warn(\n",
      "/Library/Frameworks/Python.framework/Versions/3.8/lib/python3.8/site-packages/sklearn/base.py:441: UserWarning: X does not have valid feature names, but KNeighborsClassifier was fitted with feature names\n",
      "  warnings.warn(\n",
      "/Library/Frameworks/Python.framework/Versions/3.8/lib/python3.8/site-packages/sklearn/base.py:441: UserWarning: X does not have valid feature names, but KNeighborsClassifier was fitted with feature names\n",
      "  warnings.warn(\n",
      "/Library/Frameworks/Python.framework/Versions/3.8/lib/python3.8/site-packages/sklearn/base.py:441: UserWarning: X does not have valid feature names, but KNeighborsClassifier was fitted with feature names\n",
      "  warnings.warn(\n",
      "/Library/Frameworks/Python.framework/Versions/3.8/lib/python3.8/site-packages/sklearn/base.py:441: UserWarning: X does not have valid feature names, but KNeighborsClassifier was fitted with feature names\n",
      "  warnings.warn(\n",
      "/Library/Frameworks/Python.framework/Versions/3.8/lib/python3.8/site-packages/sklearn/base.py:441: UserWarning: X does not have valid feature names, but KNeighborsClassifier was fitted with feature names\n",
      "  warnings.warn(\n"
     ]
    }
   ],
   "source": [
    "experiment_3 (df, X_train, X_test) "
   ]
  }
 ],
 "metadata": {
  "interpreter": {
   "hash": "aee8b7b246df8f9039afb4144a1f6fd8d2ca17a180786b69acc140d282b71a49"
  },
  "kernelspec": {
   "display_name": "Python 3.8.10 64-bit",
   "name": "python3"
  },
  "language_info": {
   "codemirror_mode": {
    "name": "ipython",
    "version": 3
   },
   "file_extension": ".py",
   "mimetype": "text/x-python",
   "name": "python",
   "nbconvert_exporter": "python",
   "pygments_lexer": "ipython3",
   "version": "3.8.10"
  },
  "orig_nbformat": 4
 },
 "nbformat": 4,
 "nbformat_minor": 2
}
